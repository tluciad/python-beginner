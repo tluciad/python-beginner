{
  "nbformat": 4,
  "nbformat_minor": 0,
  "metadata": {
    "colab": {
      "provenance": [],
      "authorship_tag": "ABX9TyMiP4wqA6r9VYfrPe5QlALK",
      "include_colab_link": true
    },
    "kernelspec": {
      "name": "python3",
      "display_name": "Python 3"
    },
    "language_info": {
      "name": "python"
    }
  },
  "cells": [
    {
      "cell_type": "markdown",
      "metadata": {
        "id": "view-in-github",
        "colab_type": "text"
      },
      "source": [
        "<a href=\"https://colab.research.google.com/github/tluciad/python-beginner/blob/main/Procesamiento_de_datosII.ipynb\" target=\"_parent\"><img src=\"https://colab.research.google.com/assets/colab-badge.svg\" alt=\"Open In Colab\"/></a>"
      ]
    },
    {
      "cell_type": "code",
      "execution_count": 1,
      "metadata": {
        "colab": {
          "base_uri": "https://localhost:8080/"
        },
        "id": "q-HXq3jjXW-2",
        "outputId": "146a3b01-cb1d-4021-c94b-4fa3516e87f7"
      },
      "outputs": [
        {
          "output_type": "stream",
          "name": "stdout",
          "text": [
            "Collecting pyspark\n",
            "  Downloading pyspark-3.5.0.tar.gz (316.9 MB)\n",
            "\u001b[2K     \u001b[90m━━━━━━━━━━━━━━━━━━━━━━━━━━━━━━━━━━━━━━━━\u001b[0m \u001b[32m316.9/316.9 MB\u001b[0m \u001b[31m2.6 MB/s\u001b[0m eta \u001b[36m0:00:00\u001b[0m\n",
            "\u001b[?25h  Preparing metadata (setup.py) ... \u001b[?25l\u001b[?25hdone\n",
            "Requirement already satisfied: py4j==0.10.9.7 in /usr/local/lib/python3.10/dist-packages (from pyspark) (0.10.9.7)\n",
            "Building wheels for collected packages: pyspark\n",
            "  Building wheel for pyspark (setup.py) ... \u001b[?25l\u001b[?25hdone\n",
            "  Created wheel for pyspark: filename=pyspark-3.5.0-py2.py3-none-any.whl size=317425344 sha256=18860daa38baabba71ed1149c0279233b0900b61648498bd8b6a6a9861f1bc6e\n",
            "  Stored in directory: /root/.cache/pip/wheels/41/4e/10/c2cf2467f71c678cfc8a6b9ac9241e5e44a01940da8fbb17fc\n",
            "Successfully built pyspark\n",
            "Installing collected packages: pyspark\n",
            "Successfully installed pyspark-3.5.0\n"
          ]
        }
      ],
      "source": [
        "!pip install pyspark"
      ]
    },
    {
      "cell_type": "code",
      "source": [
        "# Import SparkSession\n",
        "from pyspark.sql import SparkSession\n",
        "# Create SparkSession\n",
        "spark = SparkSession.builder \\\n",
        "      .master(\"local[1]\") \\\n",
        "      .appName(\"SparkByExamples.com\") \\\n",
        "      .getOrCreate()"
      ],
      "metadata": {
        "id": "_XDyQEWqY5j_"
      },
      "execution_count": 2,
      "outputs": []
    },
    {
      "cell_type": "code",
      "source": [
        "# Create RDD from external Data source\n",
        "rdd2 = spark.sparkContext.textFile(\"/content/resources/test.txt\")"
      ],
      "metadata": {
        "id": "tuNAuSLOZBk-"
      },
      "execution_count": 3,
      "outputs": []
    },
    {
      "cell_type": "code",
      "source": [
        "rdd2.collect()"
      ],
      "metadata": {
        "colab": {
          "base_uri": "https://localhost:8080/"
        },
        "id": "ME0B9n8hadHk",
        "outputId": "7c4e4c27-e0e5-488d-e45b-501f1350064e"
      },
      "execution_count": 4,
      "outputs": [
        {
          "output_type": "execute_result",
          "data": {
            "text/plain": [
              "['Project Gutenberg’s',\n",
              " 'Alice’s Adventures in Wonderland',\n",
              " 'by Lewis Carroll',\n",
              " 'This eBook is for the use',\n",
              " 'of anyone anywhere',\n",
              " 'at no cost and with',\n",
              " 'Alice’s Adventures in Wonderland',\n",
              " 'by Lewis Carroll',\n",
              " 'This eBook is for the use',\n",
              " 'of anyone anywhere',\n",
              " 'at no cost and with',\n",
              " 'This eBook is for the use',\n",
              " 'of anyone anywhere',\n",
              " 'at no cost and with',\n",
              " 'Project Gutenberg’s',\n",
              " 'Alice’s Adventures in Wonderland',\n",
              " 'by Lewis Carroll',\n",
              " 'This eBook is for the use',\n",
              " 'of anyone anywhere',\n",
              " 'at no cost and with',\n",
              " 'Alice’s Adventures in Wonderland',\n",
              " 'by Lewis Carroll',\n",
              " 'This eBook is for the use',\n",
              " 'of anyone anywhere',\n",
              " 'at no cost and with',\n",
              " 'This eBook is for the use',\n",
              " 'of anyone anywhere',\n",
              " 'at no cost and with',\n",
              " 'Project Gutenberg’s',\n",
              " 'Alice’s Adventures in Wonderland',\n",
              " 'by Lewis Carroll',\n",
              " 'This eBook is for the use',\n",
              " 'of anyone anywhere',\n",
              " 'at no cost and with',\n",
              " 'Alice’s Adventures in Wonderland',\n",
              " 'by Lewis Carroll',\n",
              " 'This eBook is for the use',\n",
              " 'of anyone anywhere',\n",
              " 'at no cost and with',\n",
              " 'This eBook is for the use',\n",
              " 'of anyone anywhere',\n",
              " 'at no cost and with',\n",
              " 'Project Gutenberg’s',\n",
              " 'Alice’s Adventures in Wonderland',\n",
              " 'by Lewis Carroll',\n",
              " 'This eBook is for the use',\n",
              " 'of anyone anywhere',\n",
              " 'at no cost and with',\n",
              " 'Alice’s Adventures in Wonderland',\n",
              " 'by Lewis Carroll',\n",
              " 'This eBook is for the use',\n",
              " 'of anyone anywhere',\n",
              " 'at no cost and with',\n",
              " 'This eBook is for the use',\n",
              " 'of anyone anywhere',\n",
              " 'at no cost and with',\n",
              " 'Project Gutenberg’s',\n",
              " 'Alice’s Adventures in Wonderland',\n",
              " 'by Lewis Carroll',\n",
              " 'This eBook is for the use',\n",
              " 'of anyone anywhere',\n",
              " 'at no cost and with',\n",
              " 'Alice’s Adventures in Wonderland',\n",
              " 'by Lewis Carroll',\n",
              " 'This eBook is for the use',\n",
              " 'of anyone anywhere',\n",
              " 'at no cost and with',\n",
              " 'This eBook is for the use',\n",
              " 'of anyone anywhere',\n",
              " 'at no cost and with',\n",
              " 'Project Gutenberg’s',\n",
              " 'Alice’s Adventures in Wonderland',\n",
              " 'by Lewis Carroll',\n",
              " 'This eBook is for the use',\n",
              " 'of anyone anywhere',\n",
              " 'at no cost and with',\n",
              " 'Alice’s Adventures in Wonderland',\n",
              " 'by Lewis Carroll',\n",
              " 'This eBook is for the use',\n",
              " 'of anyone anywhere',\n",
              " 'at no cost and with',\n",
              " 'This eBook is for the use',\n",
              " 'of anyone anywhere',\n",
              " 'at no cost and with',\n",
              " 'Project Gutenberg’s',\n",
              " 'Alice’s Adventures in Wonderland',\n",
              " 'by Lewis Carroll',\n",
              " 'This eBook is for the use',\n",
              " 'of anyone anywhere',\n",
              " 'at no cost and with',\n",
              " 'Alice’s Adventures in Wonderland',\n",
              " 'by Lewis Carroll',\n",
              " 'This eBook is for the use',\n",
              " 'of anyone anywhere',\n",
              " 'at no cost and with',\n",
              " 'This eBook is for the use',\n",
              " 'of anyone anywhere',\n",
              " 'at no cost and with',\n",
              " 'Project Gutenberg’s',\n",
              " 'Alice’s Adventures in Wonderland',\n",
              " 'by Lewis Carroll',\n",
              " 'This eBook is for the use',\n",
              " 'of anyone anywhere',\n",
              " 'at no cost and with',\n",
              " 'Alice’s Adventures in Wonderland',\n",
              " 'by Lewis Carroll',\n",
              " 'This eBook is for the use',\n",
              " 'of anyone anywhere',\n",
              " 'at no cost and with',\n",
              " 'This eBook is for the use',\n",
              " 'of anyone anywhere',\n",
              " 'at no cost and with',\n",
              " 'Project Gutenberg’s',\n",
              " 'Alice’s Adventures in Wonderland',\n",
              " 'by Lewis Carroll',\n",
              " 'This eBook is for the use',\n",
              " 'of anyone anywhere',\n",
              " 'at no cost and with',\n",
              " 'Alice’s Adventures in Wonderland',\n",
              " 'by Lewis Carroll',\n",
              " 'This eBook is for the use',\n",
              " 'of anyone anywhere',\n",
              " 'at no cost and with',\n",
              " 'This eBook is for the use',\n",
              " 'of anyone anywhere',\n",
              " 'at no cost and with']"
            ]
          },
          "metadata": {},
          "execution_count": 4
        }
      ]
    },
    {
      "cell_type": "code",
      "source": [
        "dataDF = [(('James','','Smith'),'1991-04-01','M',3000),\n",
        "  (('Michael','Rose',''),'2000-05-19','M',4000),\n",
        "  (('Robert','','Williams'),'1978-09-05','M',4000),\n",
        "  (('Maria','Anne','Jones'),'1967-12-01','F',4000),\n",
        "  (('Jen','Mary','Brown'),'1980-02-17','F',-1)\n",
        "]"
      ],
      "metadata": {
        "id": "iWqDNc_udb12"
      },
      "execution_count": 5,
      "outputs": []
    },
    {
      "cell_type": "code",
      "source": [
        "from pyspark.sql.types import StructType,StructField, StringType, IntegerType\n",
        "schema = StructType([\n",
        "        StructField('name', StructType([\n",
        "             StructField('firstname', StringType(), True),\n",
        "             StructField('middlename', StringType(), True),\n",
        "             StructField('lastname', StringType(), True)\n",
        "             ])),\n",
        "         StructField('dob', StringType(), True),\n",
        "         StructField('gender', StringType(), True),\n",
        "         StructField('salary', IntegerType(), True)\n",
        "         ])"
      ],
      "metadata": {
        "id": "Wn12wGPxeN7T"
      },
      "execution_count": 10,
      "outputs": []
    },
    {
      "cell_type": "code",
      "source": [
        "df = spark.createDataFrame(data = dataDF, schema = schema)"
      ],
      "metadata": {
        "id": "fDaRY0gme5Yo"
      },
      "execution_count": 11,
      "outputs": []
    },
    {
      "cell_type": "code",
      "source": [
        "df.printSchema()"
      ],
      "metadata": {
        "colab": {
          "base_uri": "https://localhost:8080/"
        },
        "id": "Zwyce7dpfAT1",
        "outputId": "cae14ea0-4045-476b-93b5-d7876f60bd30"
      },
      "execution_count": 12,
      "outputs": [
        {
          "output_type": "stream",
          "name": "stdout",
          "text": [
            "root\n",
            " |-- name: struct (nullable = true)\n",
            " |    |-- firstname: string (nullable = true)\n",
            " |    |-- middlename: string (nullable = true)\n",
            " |    |-- lastname: string (nullable = true)\n",
            " |-- dob: string (nullable = true)\n",
            " |-- gender: string (nullable = true)\n",
            " |-- salary: integer (nullable = true)\n",
            "\n"
          ]
        }
      ]
    },
    {
      "cell_type": "code",
      "source": [
        "df.show()"
      ],
      "metadata": {
        "colab": {
          "base_uri": "https://localhost:8080/"
        },
        "id": "7ZuRxjtefHUj",
        "outputId": "fa2984a8-a352-4928-efd5-edfdb89a5e16"
      },
      "execution_count": 13,
      "outputs": [
        {
          "output_type": "stream",
          "name": "stdout",
          "text": [
            "+--------------------+----------+------+------+\n",
            "|                name|       dob|gender|salary|\n",
            "+--------------------+----------+------+------+\n",
            "|    {James, , Smith}|1991-04-01|     M|  3000|\n",
            "|   {Michael, Rose, }|2000-05-19|     M|  4000|\n",
            "|{Robert, , Williams}|1978-09-05|     M|  4000|\n",
            "|{Maria, Anne, Jones}|1967-12-01|     F|  4000|\n",
            "|  {Jen, Mary, Brown}|1980-02-17|     F|    -1|\n",
            "+--------------------+----------+------+------+\n",
            "\n"
          ]
        }
      ]
    },
    {
      "cell_type": "code",
      "source": [
        "df2 = df.withColumnRenamed(\"dob\",\"DateOfBirth\") \\\n",
        "    .withColumnRenamed(\"salary\",\"salary_amount\")\n",
        "df2.printSchema()"
      ],
      "metadata": {
        "colab": {
          "base_uri": "https://localhost:8080/"
        },
        "id": "-M1Z2t2NhJcZ",
        "outputId": "4b519b1a-3fa1-4279-93ab-29c0a192c030"
      },
      "execution_count": 20,
      "outputs": [
        {
          "output_type": "stream",
          "name": "stdout",
          "text": [
            "root\n",
            " |-- name: struct (nullable = true)\n",
            " |    |-- firstname: string (nullable = true)\n",
            " |    |-- middlename: string (nullable = true)\n",
            " |    |-- lastname: string (nullable = true)\n",
            " |-- DateOfBirth: string (nullable = true)\n",
            " |-- gender: string (nullable = true)\n",
            " |-- salary_amount: integer (nullable = true)\n",
            "\n"
          ]
        }
      ]
    },
    {
      "cell_type": "code",
      "source": [
        "df2.show()"
      ],
      "metadata": {
        "colab": {
          "base_uri": "https://localhost:8080/"
        },
        "id": "hMQfDiaKhg_U",
        "outputId": "76f7f442-89bd-4aae-e7b1-f22b2f8c6e89"
      },
      "execution_count": 22,
      "outputs": [
        {
          "output_type": "stream",
          "name": "stdout",
          "text": [
            "+--------------------+-----------+------+-------------+\n",
            "|                name|DateOfBirth|gender|salary_amount|\n",
            "+--------------------+-----------+------+-------------+\n",
            "|    {James, , Smith}| 1991-04-01|     M|         3000|\n",
            "|   {Michael, Rose, }| 2000-05-19|     M|         4000|\n",
            "|{Robert, , Williams}| 1978-09-05|     M|         4000|\n",
            "|{Maria, Anne, Jones}| 1967-12-01|     F|         4000|\n",
            "|  {Jen, Mary, Brown}| 1980-02-17|     F|           -1|\n",
            "+--------------------+-----------+------+-------------+\n",
            "\n"
          ]
        }
      ]
    },
    {
      "cell_type": "code",
      "source": [
        "df2.createOrReplaceTempView(\"PERSON_DATA\")\n",
        "df3 = spark.sql(\"SELECT * from PERSON_DATA\")\n",
        "df3.printSchema()\n",
        "df3.show()"
      ],
      "metadata": {
        "colab": {
          "base_uri": "https://localhost:8080/"
        },
        "id": "djNcpzM6hndQ",
        "outputId": "2f3f0b93-658e-4ff9-ebea-d1e796c180b3"
      },
      "execution_count": 23,
      "outputs": [
        {
          "output_type": "stream",
          "name": "stdout",
          "text": [
            "root\n",
            " |-- name: struct (nullable = true)\n",
            " |    |-- firstname: string (nullable = true)\n",
            " |    |-- middlename: string (nullable = true)\n",
            " |    |-- lastname: string (nullable = true)\n",
            " |-- DateOfBirth: string (nullable = true)\n",
            " |-- gender: string (nullable = true)\n",
            " |-- salary_amount: integer (nullable = true)\n",
            "\n",
            "+--------------------+-----------+------+-------------+\n",
            "|                name|DateOfBirth|gender|salary_amount|\n",
            "+--------------------+-----------+------+-------------+\n",
            "|    {James, , Smith}| 1991-04-01|     M|         3000|\n",
            "|   {Michael, Rose, }| 2000-05-19|     M|         4000|\n",
            "|{Robert, , Williams}| 1978-09-05|     M|         4000|\n",
            "|{Maria, Anne, Jones}| 1967-12-01|     F|         4000|\n",
            "|  {Jen, Mary, Brown}| 1980-02-17|     F|           -1|\n",
            "+--------------------+-----------+------+-------------+\n",
            "\n"
          ]
        }
      ]
    },
    {
      "cell_type": "code",
      "source": [
        "schema2 = StructType([\n",
        "    StructField(\"fname\",StringType()),\n",
        "    StructField(\"middlename\",StringType()),\n",
        "    StructField(\"lname\",StringType())])"
      ],
      "metadata": {
        "id": "ZIBMdtNDj6Dp"
      },
      "execution_count": 24,
      "outputs": []
    },
    {
      "cell_type": "code",
      "source": [
        "from pyspark.sql.functions import *\n",
        "\n",
        "df4 = df3.select(col(\"name.firstname\").alias(\"fname\"), \\\n",
        "  col(\"name.middlename\").alias(\"mname\"), \\\n",
        "  col(\"name.lastname\").alias(\"lname\"), \\\n",
        "  col(\"DateOfBirth\"),col(\"gender\"),col(\"salary_amount\"))\n",
        "df4.show()"
      ],
      "metadata": {
        "colab": {
          "base_uri": "https://localhost:8080/"
        },
        "id": "1PIKVPQ_j8eO",
        "outputId": "c15c0f5c-f414-4588-de3c-3468c53d94c2"
      },
      "execution_count": 25,
      "outputs": [
        {
          "output_type": "stream",
          "name": "stdout",
          "text": [
            "+-------+-----+--------+-----------+------+-------------+\n",
            "|  fname|mname|   lname|DateOfBirth|gender|salary_amount|\n",
            "+-------+-----+--------+-----------+------+-------------+\n",
            "|  James|     |   Smith| 1991-04-01|     M|         3000|\n",
            "|Michael| Rose|        | 2000-05-19|     M|         4000|\n",
            "| Robert|     |Williams| 1978-09-05|     M|         4000|\n",
            "|  Maria| Anne|   Jones| 1967-12-01|     F|         4000|\n",
            "|    Jen| Mary|   Brown| 1980-02-17|     F|           -1|\n",
            "+-------+-----+--------+-----------+------+-------------+\n",
            "\n"
          ]
        }
      ]
    },
    {
      "cell_type": "code",
      "source": [
        "print(\"approx_count_distinct: \" + \\\n",
        "      str(df4.select(approx_count_distinct(\"salary_amount\")).collect()[0][0]))"
      ],
      "metadata": {
        "colab": {
          "base_uri": "https://localhost:8080/"
        },
        "id": "86i85K65m9om",
        "outputId": "5ff0da47-085d-45f0-ca91-3e287e45e6cf"
      },
      "execution_count": 26,
      "outputs": [
        {
          "output_type": "stream",
          "name": "stdout",
          "text": [
            "approx_count_distinct: 3\n"
          ]
        }
      ]
    },
    {
      "cell_type": "code",
      "source": [
        "print(\"approx_count_distinct_genero: \" + \\\n",
        "      str(df4.select(approx_count_distinct(\"gender\")).collect()[0][0]))"
      ],
      "metadata": {
        "colab": {
          "base_uri": "https://localhost:8080/"
        },
        "id": "s2HhV3_xnDzz",
        "outputId": "70cf4532-1b68-4061-e511-899cd21f8537"
      },
      "execution_count": 27,
      "outputs": [
        {
          "output_type": "stream",
          "name": "stdout",
          "text": [
            "approx_count_distinct_genero: 2\n"
          ]
        }
      ]
    },
    {
      "cell_type": "code",
      "source": [],
      "metadata": {
        "id": "JkH59zO_mXCT"
      },
      "execution_count": null,
      "outputs": []
    }
  ]
}